{
 "cells": [
  {
   "cell_type": "code",
   "execution_count": 133,
   "metadata": {
    "ExecuteTime": {
     "end_time": "2019-07-01T07:38:34.868486Z",
     "start_time": "2019-07-01T15:38:34.452661+08:00"
    }
   },
   "outputs": [
    {
     "data": {
      "image/png": "[encoded data removed]",
      "text/plain": [
       "<Figure size 432x288 with 2 Axes>"
      ]
     },
     "metadata": {},
     "output_type": "display_data"
    }
   ],
   "source": [
    "import numpy as np\n",
    "from numpy import linalg as LA\n",
    "from copy import deepcopy\n",
    "def get_gradient(X, Y, beta):\n",
    "    \"\"\"\n",
    "    @Input:\n",
    "        X: np.array of shape n * d; X.T = [x1, x2, ..., xn]\n",
    "        Y: np.array of shape n * 1; Y.T = [y1, y2, ..., yn]\n",
    "        beta: np.array of shape d * 1\n",
    "    @Output:\n",
    "        The gradient of the logistic loss.\n",
    "    \"\"\"\n",
    "    Z = Y * (np.matmul(X, beta))\n",
    "    sigma = (-Y) * (1 / (1 + np.exp(Z)))\n",
    "    return np.matmul(X.T, sigma)\n",
    "\n",
    "\n",
    "def get_fval(X, Y, beta):\n",
    "    \"\"\"\n",
    "    @Input:\n",
    "        X: np.array of shape n * d; X.T = [x1, x2, ..., xn]\n",
    "        Y: np.array of shape n * 1; Y.T = [y1, y2, ..., yn]\n",
    "        beta: np.array of shape d * 1\n",
    "    @Output:\n",
    "        The value of the logistic loss.\n",
    "    \"\"\"\n",
    "    Z = Y * (np.matmul(X, beta))\n",
    "    temp = np.log(1 + np.exp(-Z))\n",
    "    return np.sum(temp)\n",
    "\n",
    "\n",
    "def LogisticRegression(X, Y, stepsize, maxiter=100):\n",
    "    n, d = X.shape\n",
    "    beta = np.ones((d, 1)) \n",
    "    iteration = 0\n",
    "    fval = [get_fval(X, Y, beta)/n]\n",
    "    beta_seq = [deepcopy(beta)]\n",
    "    while iteration < maxiter:\n",
    "        gradient = get_gradient(X, Y, beta) / n\n",
    "        beta -= stepsize * gradient\n",
    "        fval.append(get_fval(X, Y, beta) / n)\n",
    "        beta_seq.append(deepcopy(beta))\n",
    "        iteration += 1\n",
    "    return beta_seq, fval\n",
    "\n",
    "\n",
    "if __name__ == \"__main__\":\n",
    "    import matplotlib.pyplot as plt\n",
    "    X1 = np.array([[1], [2]])\n",
    "    Y1 = np.array([[1], [-1]])\n",
    "    betas = np.linspace(-3, 3, 1000).reshape(-1, 1)\n",
    "    fval1 = [get_fval(X1, Y1, beta.reshape(-1, 1)) / X1.shape[0] for beta in betas]\n",
    "    X2 = np.array([[1], [-1]])\n",
    "    Y2 = np.array([[1], [-1]])\n",
    "    fval2 = [get_fval(X2, Y2, beta.reshape(-1, 1)) / X2.shape[0] for beta in betas]\n",
    "\n",
    "    fig = plt.figure()\n",
    "    ax = fig.add_subplot(1, 2, 1)\n",
    "    plt.subplots_adjust(wspace=0.6)\n",
    "    ax.plot(betas, fval1, color='blue', lw=2)\n",
    "    ax.plot(betas, betas ** 2, 'g-.', lw=1)\n",
    "    ax.plot(1,get_fval(X1, Y1, np.array(1).reshape(-1, 1)) / X1.shape[0], 'r.')\n",
    "    ax.set_ylabel('fvalue')\n",
    "    ax.set_xlabel(r'$\\beta$')\n",
    "    ax = fig.add_subplot(1, 2, 2)\n",
    "    ax.plot(betas, fval2, color='blue', lw=2)\n",
    "    ax.plot(betas, betas ** 2, 'g-.', lw=1)\n",
    "    ax.plot(1,get_fval(X2, Y2, np.array(1).reshape(-1, 1)) / X2.shape[0], 'r.')\n",
    "    ax.set_ylabel('fvalue')\n",
    "    ax.set_xlabel(r'$\\beta$')\n",
    "    plt.savefig('../figs/LogisticRegression-1dcontour.png', dpi=200)\n",
    "    plt.show()\n"
   ]
  },
  {
   "cell_type": "code",
   "execution_count": 90,
   "metadata": {
    "ExecuteTime": {
     "end_time": "2019-07-01T06:58:50.773641Z",
     "start_time": "2019-07-01T14:58:50.767417+08:00"
    }
   },
   "outputs": [
    {
     "data": {
      "text/plain": [
       "0.0029326701349913415"
      ]
     },
     "execution_count": 90,
     "metadata": {},
     "output_type": "execute_result"
    }
   ],
   "source": [
    "np.min(fval2)"
   ]
  },
  {
   "cell_type": "code",
   "execution_count": 91,
   "metadata": {
    "ExecuteTime": {
     "end_time": "2019-07-01T06:59:02.720157Z",
     "start_time": "2019-07-01T14:59:02.713902+08:00"
    }
   },
   "outputs": [
    {
     "data": {
      "text/plain": [
       "0.0024818293312081044"
      ]
     },
     "execution_count": 91,
     "metadata": {},
     "output_type": "execute_result"
    }
   ],
   "source": [
    "np.min(FGRID)"
   ]
  }
 ],
 "metadata": {
  "kernelspec": {
   "display_name": "Python 3",
   "language": "python",
   "name": "python3"
  },
  "language_info": {
   "codemirror_mode": {
    "name": "ipython",
    "version": 3
   },
   "file_extension": ".py",
   "mimetype": "text/x-python",
   "name": "python",
   "nbconvert_exporter": "python",
   "pygments_lexer": "ipython3",
   "version": "3.6.8"
  },
  "toc": {
   "colors": {
    "hover_highlight": "#DAA520",
    "navigate_num": "#000000",
    "navigate_text": "#333333",
    "running_highlight": "#FF0000",
    "selected_highlight": "#FFD700",
    "sidebar_border": "#EEEEEE",
    "wrapper_background": "#FFFFFF"
   },
   "moveMenuLeft": true,
   "nav_menu": {
    "height": "12px",
    "width": "252px"
   },
   "navigate_menu": true,
   "number_sections": true,
   "sideBar": true,
   "threshold": 4,
   "toc_cell": false,
   "toc_section_display": "block",
   "toc_window_display": false,
   "widenNotebook": false
  }
 },
 "nbformat": 4,
 "nbformat_minor": 2
}
